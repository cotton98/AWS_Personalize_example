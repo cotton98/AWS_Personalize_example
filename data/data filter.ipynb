{
 "cells": [
  {
   "cell_type": "code",
   "execution_count": 5,
   "metadata": {},
   "outputs": [],
   "source": [
    "import pandas as pd\n",
    "import numpy as np\n",
    "import boto3"
   ]
  },
  {
   "cell_type": "code",
   "execution_count": 28,
   "metadata": {},
   "outputs": [],
   "source": [
    "bucket = \"recommend-bucket-epicmobile\"\n",
    "filename = \"testitemdata.csv\"\n",
    "\n",
    "# 데이터 셋으로 사용하기 위해 전체 item 컬럼 데이터 중, 3개만 추출하여 인덱싱\n",
    "data = pd.read_csv('./ml-100k/u.item', sep='|', names=['ITEM_ID', 'TITLE','DATE','videodate', 'URL','unknown', 'Action','Adventure','Animation',\n",
    "              'Childrens','Comedy','Crime','Documentary','Drama','Fantasy',\n",
    "              'Film-Noir','Horror','Musical','Mystery ', 'Romance', 'Sci-Fi',\n",
    "              'Thriller','War','Western'], encoding='latin-1')\n",
    "data = data[['ITEM_ID', 'TITLE', 'DATE']]\n",
    "data.to_csv(filename, index=False)\n",
    "boto3.Session().resource('s3').Bucket(bucket).Object(filename).upload_file(filename)"
   ]
  },
  {
   "cell_type": "code",
   "execution_count": 29,
   "metadata": {},
   "outputs": [],
   "source": [
    "bucket = \"recommend-bucket-epicmobile\"\n",
    "filename = \"testuserdata.csv\"\n",
    "\n",
    "# 데이터 셋으로 사용하기 위해 전체 user 컬럼 데이터 중, 3개만 추출하여 인덱싱\n",
    "data = pd.read_csv('./ml-100k/u.user', sep='|', names=['USER_ID', 'AGE', 'GENDER','JOB', 'NUM'])\n",
    "data = data[['USER_ID', 'AGE', 'GENDER']]\n",
    "data.to_csv(filename, index=False)\n",
    "\n",
    "boto3.Session().resource('s3').Bucket(bucket).Object(filename).upload_file(filename)"
   ]
  }
 ],
 "metadata": {
  "kernelspec": {
   "display_name": "Python 3",
   "language": "python",
   "name": "python3"
  },
  "language_info": {
   "codemirror_mode": {
    "name": "ipython",
    "version": 3
   },
   "file_extension": ".py",
   "mimetype": "text/x-python",
   "name": "python",
   "nbconvert_exporter": "python",
   "pygments_lexer": "ipython3",
   "version": "3.8.5"
  }
 },
 "nbformat": 4,
 "nbformat_minor": 4
}